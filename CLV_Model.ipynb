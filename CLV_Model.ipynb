{
 "cells": [
  {
   "cell_type": "markdown",
   "id": "92e5a649",
   "metadata": {},
   "source": [
    "# Importing necessary libraries"
   ]
  },
  {
   "cell_type": "code",
   "execution_count": 1,
   "id": "bdfd3e09",
   "metadata": {},
   "outputs": [],
   "source": [
    "import pandas as pd\n",
    "import numpy as np\n",
    "from sklearn.model_selection import train_test_split\n",
    "from sklearn.ensemble import RandomForestRegressor\n",
    "from sklearn.metrics import mean_squared_error, r2_score\n",
    "from sklearn.preprocessing import StandardScaler\n",
    "import joblib"
   ]
  },
  {
   "cell_type": "markdown",
   "id": "f090777d",
   "metadata": {},
   "source": [
    "# Load Dataset"
   ]
  },
  {
   "cell_type": "code",
   "execution_count": 2,
   "id": "1d370282",
   "metadata": {},
   "outputs": [
    {
     "name": "stdout",
     "output_type": "stream",
     "text": [
      "Original shape: (7000, 20)\n"
     ]
    },
    {
     "data": {
      "text/html": [
       "<div>\n",
       "<style scoped>\n",
       "    .dataframe tbody tr th:only-of-type {\n",
       "        vertical-align: middle;\n",
       "    }\n",
       "\n",
       "    .dataframe tbody tr th {\n",
       "        vertical-align: top;\n",
       "    }\n",
       "\n",
       "    .dataframe thead th {\n",
       "        text-align: right;\n",
       "    }\n",
       "</style>\n",
       "<table border=\"1\" class=\"dataframe\">\n",
       "  <thead>\n",
       "    <tr style=\"text-align: right;\">\n",
       "      <th></th>\n",
       "      <th>Customer_ID</th>\n",
       "      <th>Age</th>\n",
       "      <th>Location</th>\n",
       "      <th>Income_Level</th>\n",
       "      <th>Total_Transactions</th>\n",
       "      <th>Avg_Transaction_Value</th>\n",
       "      <th>Max_Transaction_Value</th>\n",
       "      <th>Min_Transaction_Value</th>\n",
       "      <th>Total_Spent</th>\n",
       "      <th>Active_Days</th>\n",
       "      <th>Last_Transaction_Days_Ago</th>\n",
       "      <th>Loyalty_Points_Earned</th>\n",
       "      <th>Referral_Count</th>\n",
       "      <th>Cashback_Received</th>\n",
       "      <th>App_Usage_Frequency</th>\n",
       "      <th>Preferred_Payment_Method</th>\n",
       "      <th>Support_Tickets_Raised</th>\n",
       "      <th>Issue_Resolution_Time</th>\n",
       "      <th>Customer_Satisfaction_Score</th>\n",
       "      <th>LTV</th>\n",
       "    </tr>\n",
       "  </thead>\n",
       "  <tbody>\n",
       "    <tr>\n",
       "      <th>0</th>\n",
       "      <td>cust_0000</td>\n",
       "      <td>54</td>\n",
       "      <td>Urban</td>\n",
       "      <td>Low</td>\n",
       "      <td>192</td>\n",
       "      <td>16736.384023</td>\n",
       "      <td>60216.834510</td>\n",
       "      <td>6525.814861</td>\n",
       "      <td>3.213386e+06</td>\n",
       "      <td>140</td>\n",
       "      <td>209</td>\n",
       "      <td>2114</td>\n",
       "      <td>25</td>\n",
       "      <td>2224.012140</td>\n",
       "      <td>Monthly</td>\n",
       "      <td>Debit Card</td>\n",
       "      <td>3</td>\n",
       "      <td>61.568590</td>\n",
       "      <td>1</td>\n",
       "      <td>3.279546e+05</td>\n",
       "    </tr>\n",
       "    <tr>\n",
       "      <th>1</th>\n",
       "      <td>cust_0001</td>\n",
       "      <td>67</td>\n",
       "      <td>Suburban</td>\n",
       "      <td>High</td>\n",
       "      <td>979</td>\n",
       "      <td>14536.734683</td>\n",
       "      <td>48350.100272</td>\n",
       "      <td>2186.742245</td>\n",
       "      <td>1.423146e+07</td>\n",
       "      <td>229</td>\n",
       "      <td>240</td>\n",
       "      <td>2960</td>\n",
       "      <td>20</td>\n",
       "      <td>4026.823518</td>\n",
       "      <td>Monthly</td>\n",
       "      <td>UPI</td>\n",
       "      <td>17</td>\n",
       "      <td>60.392889</td>\n",
       "      <td>8</td>\n",
       "      <td>1.437053e+06</td>\n",
       "    </tr>\n",
       "    <tr>\n",
       "      <th>2</th>\n",
       "      <td>cust_0002</td>\n",
       "      <td>44</td>\n",
       "      <td>Urban</td>\n",
       "      <td>High</td>\n",
       "      <td>329</td>\n",
       "      <td>7061.372800</td>\n",
       "      <td>32521.157187</td>\n",
       "      <td>2743.406808</td>\n",
       "      <td>2.323192e+06</td>\n",
       "      <td>73</td>\n",
       "      <td>21</td>\n",
       "      <td>3170</td>\n",
       "      <td>0</td>\n",
       "      <td>1441.011395</td>\n",
       "      <td>Monthly</td>\n",
       "      <td>Debit Card</td>\n",
       "      <td>11</td>\n",
       "      <td>45.305579</td>\n",
       "      <td>4</td>\n",
       "      <td>2.419387e+05</td>\n",
       "    </tr>\n",
       "    <tr>\n",
       "      <th>3</th>\n",
       "      <td>cust_0003</td>\n",
       "      <td>30</td>\n",
       "      <td>Rural</td>\n",
       "      <td>High</td>\n",
       "      <td>71</td>\n",
       "      <td>16426.876453</td>\n",
       "      <td>17827.896720</td>\n",
       "      <td>4360.784994</td>\n",
       "      <td>1.166308e+06</td>\n",
       "      <td>299</td>\n",
       "      <td>285</td>\n",
       "      <td>4756</td>\n",
       "      <td>35</td>\n",
       "      <td>4365.855580</td>\n",
       "      <td>Weekly</td>\n",
       "      <td>Wallet Balance</td>\n",
       "      <td>6</td>\n",
       "      <td>22.030191</td>\n",
       "      <td>1</td>\n",
       "      <td>1.284599e+05</td>\n",
       "    </tr>\n",
       "    <tr>\n",
       "      <th>4</th>\n",
       "      <td>cust_0004</td>\n",
       "      <td>58</td>\n",
       "      <td>Urban</td>\n",
       "      <td>Middle</td>\n",
       "      <td>878</td>\n",
       "      <td>10800.092660</td>\n",
       "      <td>17497.634534</td>\n",
       "      <td>4532.872520</td>\n",
       "      <td>9.482481e+06</td>\n",
       "      <td>236</td>\n",
       "      <td>329</td>\n",
       "      <td>1992</td>\n",
       "      <td>18</td>\n",
       "      <td>4161.523827</td>\n",
       "      <td>Daily</td>\n",
       "      <td>UPI</td>\n",
       "      <td>18</td>\n",
       "      <td>20.634723</td>\n",
       "      <td>5</td>\n",
       "      <td>9.569514e+05</td>\n",
       "    </tr>\n",
       "  </tbody>\n",
       "</table>\n",
       "</div>"
      ],
      "text/plain": [
       "  Customer_ID  Age  Location Income_Level  Total_Transactions  \\\n",
       "0   cust_0000   54     Urban          Low                 192   \n",
       "1   cust_0001   67  Suburban         High                 979   \n",
       "2   cust_0002   44     Urban         High                 329   \n",
       "3   cust_0003   30     Rural         High                  71   \n",
       "4   cust_0004   58     Urban       Middle                 878   \n",
       "\n",
       "   Avg_Transaction_Value  Max_Transaction_Value  Min_Transaction_Value  \\\n",
       "0           16736.384023           60216.834510            6525.814861   \n",
       "1           14536.734683           48350.100272            2186.742245   \n",
       "2            7061.372800           32521.157187            2743.406808   \n",
       "3           16426.876453           17827.896720            4360.784994   \n",
       "4           10800.092660           17497.634534            4532.872520   \n",
       "\n",
       "    Total_Spent  Active_Days  Last_Transaction_Days_Ago  \\\n",
       "0  3.213386e+06          140                        209   \n",
       "1  1.423146e+07          229                        240   \n",
       "2  2.323192e+06           73                         21   \n",
       "3  1.166308e+06          299                        285   \n",
       "4  9.482481e+06          236                        329   \n",
       "\n",
       "   Loyalty_Points_Earned  Referral_Count  Cashback_Received  \\\n",
       "0                   2114              25        2224.012140   \n",
       "1                   2960              20        4026.823518   \n",
       "2                   3170               0        1441.011395   \n",
       "3                   4756              35        4365.855580   \n",
       "4                   1992              18        4161.523827   \n",
       "\n",
       "  App_Usage_Frequency Preferred_Payment_Method  Support_Tickets_Raised  \\\n",
       "0             Monthly               Debit Card                       3   \n",
       "1             Monthly                      UPI                      17   \n",
       "2             Monthly               Debit Card                      11   \n",
       "3              Weekly           Wallet Balance                       6   \n",
       "4               Daily                      UPI                      18   \n",
       "\n",
       "   Issue_Resolution_Time  Customer_Satisfaction_Score           LTV  \n",
       "0              61.568590                            1  3.279546e+05  \n",
       "1              60.392889                            8  1.437053e+06  \n",
       "2              45.305579                            4  2.419387e+05  \n",
       "3              22.030191                            1  1.284599e+05  \n",
       "4              20.634723                            5  9.569514e+05  "
      ]
     },
     "execution_count": 2,
     "metadata": {},
     "output_type": "execute_result"
    }
   ],
   "source": [
    "df = pd.read_csv(\"digital_wallet.csv\")\n",
    "print(\"Original shape:\", df.shape)\n",
    "df.head()"
   ]
  },
  {
   "cell_type": "markdown",
   "id": "77591728",
   "metadata": {},
   "source": [
    "# Data Preprocessing and Feature Engineering"
   ]
  },
  {
   "cell_type": "code",
   "execution_count": 3,
   "id": "6196c818",
   "metadata": {},
   "outputs": [
    {
     "name": "stdout",
     "output_type": "stream",
     "text": [
      "<class 'pandas.core.frame.DataFrame'>\n",
      "RangeIndex: 7000 entries, 0 to 6999\n",
      "Data columns (total 20 columns):\n",
      " #   Column                       Non-Null Count  Dtype  \n",
      "---  ------                       --------------  -----  \n",
      " 0   Customer_ID                  7000 non-null   object \n",
      " 1   Age                          7000 non-null   int64  \n",
      " 2   Location                     7000 non-null   object \n",
      " 3   Income_Level                 7000 non-null   object \n",
      " 4   Total_Transactions           7000 non-null   int64  \n",
      " 5   Avg_Transaction_Value        7000 non-null   float64\n",
      " 6   Max_Transaction_Value        7000 non-null   float64\n",
      " 7   Min_Transaction_Value        7000 non-null   float64\n",
      " 8   Total_Spent                  7000 non-null   float64\n",
      " 9   Active_Days                  7000 non-null   int64  \n",
      " 10  Last_Transaction_Days_Ago    7000 non-null   int64  \n",
      " 11  Loyalty_Points_Earned        7000 non-null   int64  \n",
      " 12  Referral_Count               7000 non-null   int64  \n",
      " 13  Cashback_Received            7000 non-null   float64\n",
      " 14  App_Usage_Frequency          7000 non-null   object \n",
      " 15  Preferred_Payment_Method     7000 non-null   object \n",
      " 16  Support_Tickets_Raised       7000 non-null   int64  \n",
      " 17  Issue_Resolution_Time        7000 non-null   float64\n",
      " 18  Customer_Satisfaction_Score  7000 non-null   int64  \n",
      " 19  LTV                          7000 non-null   float64\n",
      "dtypes: float64(7), int64(8), object(5)\n",
      "memory usage: 1.1+ MB\n"
     ]
    }
   ],
   "source": [
    "df.info()"
   ]
  },
  {
   "cell_type": "code",
   "execution_count": 4,
   "id": "e38c3e31",
   "metadata": {},
   "outputs": [
    {
     "name": "stdout",
     "output_type": "stream",
     "text": [
      "\n",
      "Missing values:\n",
      " Customer_ID                    0\n",
      "Age                            0\n",
      "Location                       0\n",
      "Income_Level                   0\n",
      "Total_Transactions             0\n",
      "Avg_Transaction_Value          0\n",
      "Max_Transaction_Value          0\n",
      "Min_Transaction_Value          0\n",
      "Total_Spent                    0\n",
      "Active_Days                    0\n",
      "Last_Transaction_Days_Ago      0\n",
      "Loyalty_Points_Earned          0\n",
      "Referral_Count                 0\n",
      "Cashback_Received              0\n",
      "App_Usage_Frequency            0\n",
      "Preferred_Payment_Method       0\n",
      "Support_Tickets_Raised         0\n",
      "Issue_Resolution_Time          0\n",
      "Customer_Satisfaction_Score    0\n",
      "LTV                            0\n",
      "dtype: int64\n"
     ]
    }
   ],
   "source": [
    "print(\"\\nMissing values:\\n\", df.isnull().sum())"
   ]
  },
  {
   "cell_type": "code",
   "execution_count": 5,
   "id": "f6a76308",
   "metadata": {},
   "outputs": [],
   "source": [
    "# Features Required for training\n",
    "important_features = [\n",
    "    'Age', 'Income_Level', 'Total_Transactions', 'Avg_Transaction_Value',\n",
    "    'Total_Spent', 'Active_Days', 'Last_Transaction_Days_Ago',\n",
    "    'Customer_Satisfaction_Score', 'Preferred_Payment_Method', 'LTV'\n",
    "]\n",
    "df = df[important_features]"
   ]
  },
  {
   "cell_type": "code",
   "execution_count": 6,
   "id": "c91e9245",
   "metadata": {},
   "outputs": [],
   "source": [
    "# Drop duplicates\n",
    "df = df.drop_duplicates()"
   ]
  },
  {
   "cell_type": "code",
   "execution_count": 7,
   "id": "d3b653d5",
   "metadata": {},
   "outputs": [],
   "source": [
    "# Encode column 'Income_Level'\n",
    "income_mapping = {'Low': 0, 'Medium': 1, 'High': 2}\n",
    "df['Income_Level'] = df['Income_Level'].map(income_mapping)\n"
   ]
  },
  {
   "cell_type": "code",
   "execution_count": 8,
   "id": "e2ad1117",
   "metadata": {},
   "outputs": [],
   "source": [
    "# Encode 'Preferred_Payment_Method' using one-hot encoding\n",
    "df = pd.get_dummies(df, columns=['Preferred_Payment_Method'])"
   ]
  },
  {
   "cell_type": "code",
   "execution_count": 9,
   "id": "c75f41ab",
   "metadata": {},
   "outputs": [],
   "source": [
    "# Drop any rows with NaNs\n",
    "df = df.dropna()"
   ]
  },
  {
   "cell_type": "markdown",
   "id": "19a48482",
   "metadata": {},
   "source": [
    "# Selecting Features and Target Variable"
   ]
  },
  {
   "cell_type": "code",
   "execution_count": 10,
   "id": "496b10a3",
   "metadata": {},
   "outputs": [],
   "source": [
    "X = df.drop(\"LTV\", axis=1)\n",
    "y = df[\"LTV\"]"
   ]
  },
  {
   "cell_type": "code",
   "execution_count": 11,
   "id": "3227a4c1",
   "metadata": {},
   "outputs": [
    {
     "data": {
      "text/plain": [
       "['MyScaler']"
      ]
     },
     "execution_count": 11,
     "metadata": {},
     "output_type": "execute_result"
    }
   ],
   "source": [
    "# Scaling numeric columns\n",
    "numeric_cols = ['Age', 'Total_Transactions', 'Avg_Transaction_Value', 'Total_Spent', 'Active_Days', 'Last_Transaction_Days_Ago']\n",
    "scaler = StandardScaler()\n",
    "X[numeric_cols] = scaler.fit_transform(X[numeric_cols])\n",
    "\n",
    "\n",
    "joblib.dump(scaler, \"MyScaler\")"
   ]
  },
  {
   "cell_type": "markdown",
   "id": "74ea2ccf",
   "metadata": {},
   "source": [
    "# Train -Test split"
   ]
  },
  {
   "cell_type": "code",
   "execution_count": 12,
   "id": "0bbb0f4b",
   "metadata": {},
   "outputs": [
    {
     "name": "stdout",
     "output_type": "stream",
     "text": [
      "Training size: 3687\n",
      "Testing size: 922\n"
     ]
    }
   ],
   "source": [
    "X_train, X_test, y_train, y_test = train_test_split(X, y, test_size=0.2, random_state=42)\n",
    "print(f\"Training size: {X_train.shape[0]}\")\n",
    "print(f\"Testing size: {X_test.shape[0]}\")"
   ]
  },
  {
   "cell_type": "markdown",
   "id": "e4bfaf9d",
   "metadata": {},
   "source": [
    "# Model Training "
   ]
  },
  {
   "cell_type": "code",
   "execution_count": 13,
   "id": "bb0c38f0",
   "metadata": {},
   "outputs": [
    {
     "data": {
      "text/html": [
       "<style>#sk-container-id-1 {color: black;}#sk-container-id-1 pre{padding: 0;}#sk-container-id-1 div.sk-toggleable {background-color: white;}#sk-container-id-1 label.sk-toggleable__label {cursor: pointer;display: block;width: 100%;margin-bottom: 0;padding: 0.3em;box-sizing: border-box;text-align: center;}#sk-container-id-1 label.sk-toggleable__label-arrow:before {content: \"▸\";float: left;margin-right: 0.25em;color: #696969;}#sk-container-id-1 label.sk-toggleable__label-arrow:hover:before {color: black;}#sk-container-id-1 div.sk-estimator:hover label.sk-toggleable__label-arrow:before {color: black;}#sk-container-id-1 div.sk-toggleable__content {max-height: 0;max-width: 0;overflow: hidden;text-align: left;background-color: #f0f8ff;}#sk-container-id-1 div.sk-toggleable__content pre {margin: 0.2em;color: black;border-radius: 0.25em;background-color: #f0f8ff;}#sk-container-id-1 input.sk-toggleable__control:checked~div.sk-toggleable__content {max-height: 200px;max-width: 100%;overflow: auto;}#sk-container-id-1 input.sk-toggleable__control:checked~label.sk-toggleable__label-arrow:before {content: \"▾\";}#sk-container-id-1 div.sk-estimator input.sk-toggleable__control:checked~label.sk-toggleable__label {background-color: #d4ebff;}#sk-container-id-1 div.sk-label input.sk-toggleable__control:checked~label.sk-toggleable__label {background-color: #d4ebff;}#sk-container-id-1 input.sk-hidden--visually {border: 0;clip: rect(1px 1px 1px 1px);clip: rect(1px, 1px, 1px, 1px);height: 1px;margin: -1px;overflow: hidden;padding: 0;position: absolute;width: 1px;}#sk-container-id-1 div.sk-estimator {font-family: monospace;background-color: #f0f8ff;border: 1px dotted black;border-radius: 0.25em;box-sizing: border-box;margin-bottom: 0.5em;}#sk-container-id-1 div.sk-estimator:hover {background-color: #d4ebff;}#sk-container-id-1 div.sk-parallel-item::after {content: \"\";width: 100%;border-bottom: 1px solid gray;flex-grow: 1;}#sk-container-id-1 div.sk-label:hover label.sk-toggleable__label {background-color: #d4ebff;}#sk-container-id-1 div.sk-serial::before {content: \"\";position: absolute;border-left: 1px solid gray;box-sizing: border-box;top: 0;bottom: 0;left: 50%;z-index: 0;}#sk-container-id-1 div.sk-serial {display: flex;flex-direction: column;align-items: center;background-color: white;padding-right: 0.2em;padding-left: 0.2em;position: relative;}#sk-container-id-1 div.sk-item {position: relative;z-index: 1;}#sk-container-id-1 div.sk-parallel {display: flex;align-items: stretch;justify-content: center;background-color: white;position: relative;}#sk-container-id-1 div.sk-item::before, #sk-container-id-1 div.sk-parallel-item::before {content: \"\";position: absolute;border-left: 1px solid gray;box-sizing: border-box;top: 0;bottom: 0;left: 50%;z-index: -1;}#sk-container-id-1 div.sk-parallel-item {display: flex;flex-direction: column;z-index: 1;position: relative;background-color: white;}#sk-container-id-1 div.sk-parallel-item:first-child::after {align-self: flex-end;width: 50%;}#sk-container-id-1 div.sk-parallel-item:last-child::after {align-self: flex-start;width: 50%;}#sk-container-id-1 div.sk-parallel-item:only-child::after {width: 0;}#sk-container-id-1 div.sk-dashed-wrapped {border: 1px dashed gray;margin: 0 0.4em 0.5em 0.4em;box-sizing: border-box;padding-bottom: 0.4em;background-color: white;}#sk-container-id-1 div.sk-label label {font-family: monospace;font-weight: bold;display: inline-block;line-height: 1.2em;}#sk-container-id-1 div.sk-label-container {text-align: center;}#sk-container-id-1 div.sk-container {/* jupyter's `normalize.less` sets `[hidden] { display: none; }` but bootstrap.min.css set `[hidden] { display: none !important; }` so we also need the `!important` here to be able to override the default hidden behavior on the sphinx rendered scikit-learn.org. See: https://github.com/scikit-learn/scikit-learn/issues/21755 */display: inline-block !important;position: relative;}#sk-container-id-1 div.sk-text-repr-fallback {display: none;}</style><div id=\"sk-container-id-1\" class=\"sk-top-container\"><div class=\"sk-text-repr-fallback\"><pre>RandomForestRegressor(max_depth=10, n_estimators=200, random_state=42)</pre><b>In a Jupyter environment, please rerun this cell to show the HTML representation or trust the notebook. <br />On GitHub, the HTML representation is unable to render, please try loading this page with nbviewer.org.</b></div><div class=\"sk-container\" hidden><div class=\"sk-item\"><div class=\"sk-estimator sk-toggleable\"><input class=\"sk-toggleable__control sk-hidden--visually\" id=\"sk-estimator-id-1\" type=\"checkbox\" checked><label for=\"sk-estimator-id-1\" class=\"sk-toggleable__label sk-toggleable__label-arrow\">RandomForestRegressor</label><div class=\"sk-toggleable__content\"><pre>RandomForestRegressor(max_depth=10, n_estimators=200, random_state=42)</pre></div></div></div></div></div>"
      ],
      "text/plain": [
       "RandomForestRegressor(max_depth=10, n_estimators=200, random_state=42)"
      ]
     },
     "execution_count": 13,
     "metadata": {},
     "output_type": "execute_result"
    }
   ],
   "source": [
    "model = RandomForestRegressor(n_estimators=200,max_depth=10, random_state=42)\n",
    "model.fit(X_train, y_train)"
   ]
  },
  {
   "cell_type": "markdown",
   "id": "eb096b67",
   "metadata": {},
   "source": [
    "# Evaluation"
   ]
  },
  {
   "cell_type": "code",
   "execution_count": 14,
   "id": "5b3b6d76",
   "metadata": {},
   "outputs": [
    {
     "name": "stdout",
     "output_type": "stream",
     "text": [
      "\n",
      " Model Performance:\n",
      "R² Score: 0.9999\n",
      "RMSE: 4116.51\n",
      "MAPE: 2.43%\n",
      "Approx. Accuracy: 97.57%\n"
     ]
    }
   ],
   "source": [
    "y_pred = model.predict(X_test)\n",
    "r2 = r2_score(y_test, y_pred)\n",
    "rmse = np.sqrt(mean_squared_error(y_test, y_pred))\n",
    "mape = np.mean(np.abs((y_test - y_pred) / y_test)) * 100\n",
    "accuracy = 100 - mape\n",
    "\n",
    "print(\"\\n Model Performance:\")\n",
    "print(f\"R² Score: {r2:.4f}\")\n",
    "print(f\"RMSE: {rmse:.2f}\")\n",
    "print(f\"MAPE: {mape:.2f}%\")\n",
    "print(f\"Approx. Accuracy: {accuracy:.2f}%\")"
   ]
  },
  {
   "cell_type": "markdown",
   "id": "439c6c34",
   "metadata": {},
   "source": [
    "# Model dump"
   ]
  },
  {
   "cell_type": "code",
   "execution_count": 15,
   "id": "5432e93b",
   "metadata": {},
   "outputs": [
    {
     "data": {
      "text/plain": [
       "['MY FeatureCol']"
      ]
     },
     "execution_count": 15,
     "metadata": {},
     "output_type": "execute_result"
    }
   ],
   "source": [
    "# Save model & features\n",
    "joblib.dump(model, \"MY RanForest Model\")\n",
    "joblib.dump(X.columns.tolist(), \"MY FeatureCol\")\n"
   ]
  },
  {
   "cell_type": "code",
   "execution_count": null,
   "id": "97b410bb",
   "metadata": {},
   "outputs": [],
   "source": []
  }
 ],
 "metadata": {
  "kernelspec": {
   "display_name": "Python 3 (ipykernel)",
   "language": "python",
   "name": "python3"
  },
  "language_info": {
   "codemirror_mode": {
    "name": "ipython",
    "version": 3
   },
   "file_extension": ".py",
   "mimetype": "text/x-python",
   "name": "python",
   "nbconvert_exporter": "python",
   "pygments_lexer": "ipython3",
   "version": "3.10.12"
  }
 },
 "nbformat": 4,
 "nbformat_minor": 5
}
